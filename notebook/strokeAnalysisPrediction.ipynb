{
  "nbformat": 4,
  "nbformat_minor": 0,
  "metadata": {
    "colab": {
      "provenance": [],
      "authorship_tag": "ABX9TyM2u7eMNT+DP3Sqg1Zi0vmz",
      "include_colab_link": true
    },
    "kernelspec": {
      "name": "python3",
      "display_name": "Python 3"
    },
    "language_info": {
      "name": "python"
    }
  },
  "cells": [
    {
      "cell_type": "markdown",
      "metadata": {
        "id": "view-in-github",
        "colab_type": "text"
      },
      "source": [
        "<a href=\"https://colab.research.google.com/github/DavidkingMazimpaka/Stroke_Analysis_and_Prediction/blob/main/strokeAnalysisPrediction.ipynb\" target=\"_parent\"><img src=\"https://colab.research.google.com/assets/colab-badge.svg\" alt=\"Open In Colab\"/></a>"
      ]
    },
    {
      "cell_type": "markdown",
      "source": [
        "## Stroke Analysis and Prediction"
      ],
      "metadata": {
        "id": "rlziHo4UPRt_"
      }
    },
    {
      "cell_type": "code",
      "execution_count": 55,
      "metadata": {
        "id": "TWRzfYsrPQqa"
      },
      "outputs": [],
      "source": [
        "# Importing all necessary libraries\n",
        "# for visulization\n",
        "import numpy as np\n",
        "import pandas as pd\n",
        "from IPython.display import display\n",
        "import matplotlib.pyplot as plt\n",
        "pd.plotting.register_matplotlib_converters()\n",
        "%matplotlib inline\n",
        "import seaborn as sns\n",
        "from scipy import stats\n",
        "# for modeling\n",
        "from sklearn.preprocessing import OneHotEncoder, LabelEncoder\n",
        "from sklearn.preprocessing import StandardScaler , MinMaxScaler\n",
        "from sklearn.linear_model import LogisticRegression\n",
        "from sklearn.model_selection import StratifiedShuffleSplit\n",
        "from sklearn.metrics import accuracy_score\n",
        "from sklearn.model_selection import train_test_split\n",
        "from sklearn.model_selection import KFold , StratifiedKFold , cross_val_score\n",
        "from sklearn.tree import DecisionTreeClassifier\n",
        "from sklearn.svm import SVC\n",
        "from sklearn.ensemble import RandomForestClassifier\n",
        "from imblearn.over_sampling import RandomOverSampler\n",
        "from imblearn.under_sampling import RandomUnderSampler\n",
        "from joblib import dump, load"
      ]
    },
    {
      "cell_type": "code",
      "source": [
        "from google.colab import drive\n",
        "drive.mount('/content/drive')"
      ],
      "metadata": {
        "colab": {
          "base_uri": "https://localhost:8080/"
        },
        "id": "emOtll2VPu3V",
        "outputId": "ad8f53f9-0e19-49ef-e09a-df8d4f99daf4"
      },
      "execution_count": 2,
      "outputs": [
        {
          "output_type": "stream",
          "name": "stdout",
          "text": [
            "Mounted at /content/drive\n"
          ]
        }
      ]
    },
    {
      "cell_type": "code",
      "source": [
        "# loadin' the dataset\n",
        "df = pd.read_csv(\"/content/healthcare-dataset-stroke-data.csv\")\n",
        "df.drop([\"id\"] ,axis=1, inplace=True)\n",
        "df.shape\n",
        "df.info()"
      ],
      "metadata": {
        "colab": {
          "base_uri": "https://localhost:8080/"
        },
        "id": "XJQuF0e3P43W",
        "outputId": "e15128e4-7312-447d-d6ee-720dc1413929"
      },
      "execution_count": 27,
      "outputs": [
        {
          "output_type": "stream",
          "name": "stdout",
          "text": [
            "<class 'pandas.core.frame.DataFrame'>\n",
            "RangeIndex: 5110 entries, 0 to 5109\n",
            "Data columns (total 11 columns):\n",
            " #   Column             Non-Null Count  Dtype  \n",
            "---  ------             --------------  -----  \n",
            " 0   gender             5110 non-null   object \n",
            " 1   age                5110 non-null   float64\n",
            " 2   hypertension       5110 non-null   int64  \n",
            " 3   heart_disease      5110 non-null   int64  \n",
            " 4   ever_married       5110 non-null   object \n",
            " 5   work_type          5110 non-null   object \n",
            " 6   Residence_type     5110 non-null   object \n",
            " 7   avg_glucose_level  5110 non-null   float64\n",
            " 8   bmi                4909 non-null   float64\n",
            " 9   smoking_status     5110 non-null   object \n",
            " 10  stroke             5110 non-null   int64  \n",
            "dtypes: float64(3), int64(3), object(5)\n",
            "memory usage: 439.3+ KB\n"
          ]
        }
      ]
    },
    {
      "cell_type": "markdown",
      "source": [
        "## Univariate Analysis"
      ],
      "metadata": {
        "id": "6UsRQeGKXmK9"
      }
    },
    {
      "cell_type": "code",
      "source": [
        "df.describe(include=\"O\").T"
      ],
      "metadata": {
        "colab": {
          "base_uri": "https://localhost:8080/",
          "height": 206
        },
        "id": "yFOrhv8EXfI2",
        "outputId": "a1bc24b0-6855-4358-c1bd-3acca1843070"
      },
      "execution_count": 30,
      "outputs": [
        {
          "output_type": "execute_result",
          "data": {
            "text/plain": [
              "               count unique           top  freq\n",
              "gender          5110      3        Female  2994\n",
              "ever_married    5110      2           Yes  3353\n",
              "work_type       5110      5       Private  2925\n",
              "Residence_type  5110      2         Urban  2596\n",
              "smoking_status  5110      4  never smoked  1892"
            ],
            "text/html": [
              "\n",
              "  <div id=\"df-5e2cc7b2-0406-44b5-9bb7-e7bd0c97339d\" class=\"colab-df-container\">\n",
              "    <div>\n",
              "<style scoped>\n",
              "    .dataframe tbody tr th:only-of-type {\n",
              "        vertical-align: middle;\n",
              "    }\n",
              "\n",
              "    .dataframe tbody tr th {\n",
              "        vertical-align: top;\n",
              "    }\n",
              "\n",
              "    .dataframe thead th {\n",
              "        text-align: right;\n",
              "    }\n",
              "</style>\n",
              "<table border=\"1\" class=\"dataframe\">\n",
              "  <thead>\n",
              "    <tr style=\"text-align: right;\">\n",
              "      <th></th>\n",
              "      <th>count</th>\n",
              "      <th>unique</th>\n",
              "      <th>top</th>\n",
              "      <th>freq</th>\n",
              "    </tr>\n",
              "  </thead>\n",
              "  <tbody>\n",
              "    <tr>\n",
              "      <th>gender</th>\n",
              "      <td>5110</td>\n",
              "      <td>3</td>\n",
              "      <td>Female</td>\n",
              "      <td>2994</td>\n",
              "    </tr>\n",
              "    <tr>\n",
              "      <th>ever_married</th>\n",
              "      <td>5110</td>\n",
              "      <td>2</td>\n",
              "      <td>Yes</td>\n",
              "      <td>3353</td>\n",
              "    </tr>\n",
              "    <tr>\n",
              "      <th>work_type</th>\n",
              "      <td>5110</td>\n",
              "      <td>5</td>\n",
              "      <td>Private</td>\n",
              "      <td>2925</td>\n",
              "    </tr>\n",
              "    <tr>\n",
              "      <th>Residence_type</th>\n",
              "      <td>5110</td>\n",
              "      <td>2</td>\n",
              "      <td>Urban</td>\n",
              "      <td>2596</td>\n",
              "    </tr>\n",
              "    <tr>\n",
              "      <th>smoking_status</th>\n",
              "      <td>5110</td>\n",
              "      <td>4</td>\n",
              "      <td>never smoked</td>\n",
              "      <td>1892</td>\n",
              "    </tr>\n",
              "  </tbody>\n",
              "</table>\n",
              "</div>\n",
              "    <div class=\"colab-df-buttons\">\n",
              "\n",
              "  <div class=\"colab-df-container\">\n",
              "    <button class=\"colab-df-convert\" onclick=\"convertToInteractive('df-5e2cc7b2-0406-44b5-9bb7-e7bd0c97339d')\"\n",
              "            title=\"Convert this dataframe to an interactive table.\"\n",
              "            style=\"display:none;\">\n",
              "\n",
              "  <svg xmlns=\"http://www.w3.org/2000/svg\" height=\"24px\" viewBox=\"0 -960 960 960\">\n",
              "    <path d=\"M120-120v-720h720v720H120Zm60-500h600v-160H180v160Zm220 220h160v-160H400v160Zm0 220h160v-160H400v160ZM180-400h160v-160H180v160Zm440 0h160v-160H620v160ZM180-180h160v-160H180v160Zm440 0h160v-160H620v160Z\"/>\n",
              "  </svg>\n",
              "    </button>\n",
              "\n",
              "  <style>\n",
              "    .colab-df-container {\n",
              "      display:flex;\n",
              "      gap: 12px;\n",
              "    }\n",
              "\n",
              "    .colab-df-convert {\n",
              "      background-color: #E8F0FE;\n",
              "      border: none;\n",
              "      border-radius: 50%;\n",
              "      cursor: pointer;\n",
              "      display: none;\n",
              "      fill: #1967D2;\n",
              "      height: 32px;\n",
              "      padding: 0 0 0 0;\n",
              "      width: 32px;\n",
              "    }\n",
              "\n",
              "    .colab-df-convert:hover {\n",
              "      background-color: #E2EBFA;\n",
              "      box-shadow: 0px 1px 2px rgba(60, 64, 67, 0.3), 0px 1px 3px 1px rgba(60, 64, 67, 0.15);\n",
              "      fill: #174EA6;\n",
              "    }\n",
              "\n",
              "    .colab-df-buttons div {\n",
              "      margin-bottom: 4px;\n",
              "    }\n",
              "\n",
              "    [theme=dark] .colab-df-convert {\n",
              "      background-color: #3B4455;\n",
              "      fill: #D2E3FC;\n",
              "    }\n",
              "\n",
              "    [theme=dark] .colab-df-convert:hover {\n",
              "      background-color: #434B5C;\n",
              "      box-shadow: 0px 1px 3px 1px rgba(0, 0, 0, 0.15);\n",
              "      filter: drop-shadow(0px 1px 2px rgba(0, 0, 0, 0.3));\n",
              "      fill: #FFFFFF;\n",
              "    }\n",
              "  </style>\n",
              "\n",
              "    <script>\n",
              "      const buttonEl =\n",
              "        document.querySelector('#df-5e2cc7b2-0406-44b5-9bb7-e7bd0c97339d button.colab-df-convert');\n",
              "      buttonEl.style.display =\n",
              "        google.colab.kernel.accessAllowed ? 'block' : 'none';\n",
              "\n",
              "      async function convertToInteractive(key) {\n",
              "        const element = document.querySelector('#df-5e2cc7b2-0406-44b5-9bb7-e7bd0c97339d');\n",
              "        const dataTable =\n",
              "          await google.colab.kernel.invokeFunction('convertToInteractive',\n",
              "                                                    [key], {});\n",
              "        if (!dataTable) return;\n",
              "\n",
              "        const docLinkHtml = 'Like what you see? Visit the ' +\n",
              "          '<a target=\"_blank\" href=https://colab.research.google.com/notebooks/data_table.ipynb>data table notebook</a>'\n",
              "          + ' to learn more about interactive tables.';\n",
              "        element.innerHTML = '';\n",
              "        dataTable['output_type'] = 'display_data';\n",
              "        await google.colab.output.renderOutput(dataTable, element);\n",
              "        const docLink = document.createElement('div');\n",
              "        docLink.innerHTML = docLinkHtml;\n",
              "        element.appendChild(docLink);\n",
              "      }\n",
              "    </script>\n",
              "  </div>\n",
              "\n",
              "\n",
              "<div id=\"df-95f929b1-b02e-4fca-9a5a-42f0969f80e9\">\n",
              "  <button class=\"colab-df-quickchart\" onclick=\"quickchart('df-95f929b1-b02e-4fca-9a5a-42f0969f80e9')\"\n",
              "            title=\"Suggest charts\"\n",
              "            style=\"display:none;\">\n",
              "\n",
              "<svg xmlns=\"http://www.w3.org/2000/svg\" height=\"24px\"viewBox=\"0 0 24 24\"\n",
              "     width=\"24px\">\n",
              "    <g>\n",
              "        <path d=\"M19 3H5c-1.1 0-2 .9-2 2v14c0 1.1.9 2 2 2h14c1.1 0 2-.9 2-2V5c0-1.1-.9-2-2-2zM9 17H7v-7h2v7zm4 0h-2V7h2v10zm4 0h-2v-4h2v4z\"/>\n",
              "    </g>\n",
              "</svg>\n",
              "  </button>\n",
              "\n",
              "<style>\n",
              "  .colab-df-quickchart {\n",
              "      --bg-color: #E8F0FE;\n",
              "      --fill-color: #1967D2;\n",
              "      --hover-bg-color: #E2EBFA;\n",
              "      --hover-fill-color: #174EA6;\n",
              "      --disabled-fill-color: #AAA;\n",
              "      --disabled-bg-color: #DDD;\n",
              "  }\n",
              "\n",
              "  [theme=dark] .colab-df-quickchart {\n",
              "      --bg-color: #3B4455;\n",
              "      --fill-color: #D2E3FC;\n",
              "      --hover-bg-color: #434B5C;\n",
              "      --hover-fill-color: #FFFFFF;\n",
              "      --disabled-bg-color: #3B4455;\n",
              "      --disabled-fill-color: #666;\n",
              "  }\n",
              "\n",
              "  .colab-df-quickchart {\n",
              "    background-color: var(--bg-color);\n",
              "    border: none;\n",
              "    border-radius: 50%;\n",
              "    cursor: pointer;\n",
              "    display: none;\n",
              "    fill: var(--fill-color);\n",
              "    height: 32px;\n",
              "    padding: 0;\n",
              "    width: 32px;\n",
              "  }\n",
              "\n",
              "  .colab-df-quickchart:hover {\n",
              "    background-color: var(--hover-bg-color);\n",
              "    box-shadow: 0 1px 2px rgba(60, 64, 67, 0.3), 0 1px 3px 1px rgba(60, 64, 67, 0.15);\n",
              "    fill: var(--button-hover-fill-color);\n",
              "  }\n",
              "\n",
              "  .colab-df-quickchart-complete:disabled,\n",
              "  .colab-df-quickchart-complete:disabled:hover {\n",
              "    background-color: var(--disabled-bg-color);\n",
              "    fill: var(--disabled-fill-color);\n",
              "    box-shadow: none;\n",
              "  }\n",
              "\n",
              "  .colab-df-spinner {\n",
              "    border: 2px solid var(--fill-color);\n",
              "    border-color: transparent;\n",
              "    border-bottom-color: var(--fill-color);\n",
              "    animation:\n",
              "      spin 1s steps(1) infinite;\n",
              "  }\n",
              "\n",
              "  @keyframes spin {\n",
              "    0% {\n",
              "      border-color: transparent;\n",
              "      border-bottom-color: var(--fill-color);\n",
              "      border-left-color: var(--fill-color);\n",
              "    }\n",
              "    20% {\n",
              "      border-color: transparent;\n",
              "      border-left-color: var(--fill-color);\n",
              "      border-top-color: var(--fill-color);\n",
              "    }\n",
              "    30% {\n",
              "      border-color: transparent;\n",
              "      border-left-color: var(--fill-color);\n",
              "      border-top-color: var(--fill-color);\n",
              "      border-right-color: var(--fill-color);\n",
              "    }\n",
              "    40% {\n",
              "      border-color: transparent;\n",
              "      border-right-color: var(--fill-color);\n",
              "      border-top-color: var(--fill-color);\n",
              "    }\n",
              "    60% {\n",
              "      border-color: transparent;\n",
              "      border-right-color: var(--fill-color);\n",
              "    }\n",
              "    80% {\n",
              "      border-color: transparent;\n",
              "      border-right-color: var(--fill-color);\n",
              "      border-bottom-color: var(--fill-color);\n",
              "    }\n",
              "    90% {\n",
              "      border-color: transparent;\n",
              "      border-bottom-color: var(--fill-color);\n",
              "    }\n",
              "  }\n",
              "</style>\n",
              "\n",
              "  <script>\n",
              "    async function quickchart(key) {\n",
              "      const quickchartButtonEl =\n",
              "        document.querySelector('#' + key + ' button');\n",
              "      quickchartButtonEl.disabled = true;  // To prevent multiple clicks.\n",
              "      quickchartButtonEl.classList.add('colab-df-spinner');\n",
              "      try {\n",
              "        const charts = await google.colab.kernel.invokeFunction(\n",
              "            'suggestCharts', [key], {});\n",
              "      } catch (error) {\n",
              "        console.error('Error during call to suggestCharts:', error);\n",
              "      }\n",
              "      quickchartButtonEl.classList.remove('colab-df-spinner');\n",
              "      quickchartButtonEl.classList.add('colab-df-quickchart-complete');\n",
              "    }\n",
              "    (() => {\n",
              "      let quickchartButtonEl =\n",
              "        document.querySelector('#df-95f929b1-b02e-4fca-9a5a-42f0969f80e9 button');\n",
              "      quickchartButtonEl.style.display =\n",
              "        google.colab.kernel.accessAllowed ? 'block' : 'none';\n",
              "    })();\n",
              "  </script>\n",
              "</div>\n",
              "\n",
              "    </div>\n",
              "  </div>\n"
            ],
            "application/vnd.google.colaboratory.intrinsic+json": {
              "type": "dataframe",
              "summary": "{\n  \"name\": \"df\",\n  \"rows\": 5,\n  \"fields\": [\n    {\n      \"column\": \"count\",\n      \"properties\": {\n        \"dtype\": \"date\",\n        \"min\": \"5110\",\n        \"max\": \"5110\",\n        \"num_unique_values\": 1,\n        \"samples\": [\n          \"5110\"\n        ],\n        \"semantic_type\": \"\",\n        \"description\": \"\"\n      }\n    },\n    {\n      \"column\": \"unique\",\n      \"properties\": {\n        \"dtype\": \"date\",\n        \"min\": 2,\n        \"max\": 5,\n        \"num_unique_values\": 4,\n        \"samples\": [\n          2\n        ],\n        \"semantic_type\": \"\",\n        \"description\": \"\"\n      }\n    },\n    {\n      \"column\": \"top\",\n      \"properties\": {\n        \"dtype\": \"string\",\n        \"num_unique_values\": 5,\n        \"samples\": [\n          \"Yes\"\n        ],\n        \"semantic_type\": \"\",\n        \"description\": \"\"\n      }\n    },\n    {\n      \"column\": \"freq\",\n      \"properties\": {\n        \"dtype\": \"date\",\n        \"min\": \"1892\",\n        \"max\": \"3353\",\n        \"num_unique_values\": 5,\n        \"samples\": [\n          \"3353\"\n        ],\n        \"semantic_type\": \"\",\n        \"description\": \"\"\n      }\n    }\n  ]\n}"
            }
          },
          "metadata": {},
          "execution_count": 30
        }
      ]
    },
    {
      "cell_type": "code",
      "source": [
        "cat = list(df.select_dtypes(include='O').columns) + [\"stroke\" , \"hypertension\" , \"heart_disease\"]\n",
        "cat"
      ],
      "metadata": {
        "colab": {
          "base_uri": "https://localhost:8080/"
        },
        "id": "B9KJhGYEYrvC",
        "outputId": "4850303e-61b0-4566-bbd5-5cee93116932"
      },
      "execution_count": 31,
      "outputs": [
        {
          "output_type": "execute_result",
          "data": {
            "text/plain": [
              "['gender',\n",
              " 'ever_married',\n",
              " 'work_type',\n",
              " 'Residence_type',\n",
              " 'smoking_status',\n",
              " 'stroke',\n",
              " 'hypertension',\n",
              " 'heart_disease']"
            ]
          },
          "metadata": {},
          "execution_count": 31
        }
      ]
    },
    {
      "cell_type": "code",
      "source": [
        "df[cat] = df[cat].astype('object')\n",
        "cat.remove('stroke')"
      ],
      "metadata": {
        "id": "511WpwWXYuqr"
      },
      "execution_count": 32,
      "outputs": []
    },
    {
      "cell_type": "code",
      "source": [
        "for i in cat:\n",
        "    display(df[i].value_counts(normalize=True))\n",
        "    print(\"#\"*30)"
      ],
      "metadata": {
        "colab": {
          "base_uri": "https://localhost:8080/",
          "height": 1000
        },
        "id": "N7fInBLAYyiA",
        "outputId": "86c41e5a-ecf5-44bc-c761-f1fc4142f3e4"
      },
      "execution_count": 33,
      "outputs": [
        {
          "output_type": "display_data",
          "data": {
            "text/plain": [
              "gender\n",
              "Female    0.585910\n",
              "Male      0.413894\n",
              "Other     0.000196\n",
              "Name: proportion, dtype: float64"
            ],
            "text/html": [
              "<table border=\"1\" class=\"dataframe\">\n",
              "  <thead>\n",
              "    <tr style=\"text-align: right;\">\n",
              "      <th></th>\n",
              "      <th>proportion</th>\n",
              "    </tr>\n",
              "    <tr>\n",
              "      <th>gender</th>\n",
              "      <th></th>\n",
              "    </tr>\n",
              "  </thead>\n",
              "  <tbody>\n",
              "    <tr>\n",
              "      <th>Female</th>\n",
              "      <td>0.585910</td>\n",
              "    </tr>\n",
              "    <tr>\n",
              "      <th>Male</th>\n",
              "      <td>0.413894</td>\n",
              "    </tr>\n",
              "    <tr>\n",
              "      <th>Other</th>\n",
              "      <td>0.000196</td>\n",
              "    </tr>\n",
              "  </tbody>\n",
              "</table><br><label><b>dtype:</b> float64</label>"
            ]
          },
          "metadata": {}
        },
        {
          "output_type": "stream",
          "name": "stdout",
          "text": [
            "##############################\n"
          ]
        },
        {
          "output_type": "display_data",
          "data": {
            "text/plain": [
              "ever_married\n",
              "Yes    0.656164\n",
              "No     0.343836\n",
              "Name: proportion, dtype: float64"
            ],
            "text/html": [
              "<table border=\"1\" class=\"dataframe\">\n",
              "  <thead>\n",
              "    <tr style=\"text-align: right;\">\n",
              "      <th></th>\n",
              "      <th>proportion</th>\n",
              "    </tr>\n",
              "    <tr>\n",
              "      <th>ever_married</th>\n",
              "      <th></th>\n",
              "    </tr>\n",
              "  </thead>\n",
              "  <tbody>\n",
              "    <tr>\n",
              "      <th>Yes</th>\n",
              "      <td>0.656164</td>\n",
              "    </tr>\n",
              "    <tr>\n",
              "      <th>No</th>\n",
              "      <td>0.343836</td>\n",
              "    </tr>\n",
              "  </tbody>\n",
              "</table><br><label><b>dtype:</b> float64</label>"
            ]
          },
          "metadata": {}
        },
        {
          "output_type": "stream",
          "name": "stdout",
          "text": [
            "##############################\n"
          ]
        },
        {
          "output_type": "display_data",
          "data": {
            "text/plain": [
              "work_type\n",
              "Private          0.572407\n",
              "Self-employed    0.160274\n",
              "children         0.134442\n",
              "Govt_job         0.128571\n",
              "Never_worked     0.004305\n",
              "Name: proportion, dtype: float64"
            ],
            "text/html": [
              "<table border=\"1\" class=\"dataframe\">\n",
              "  <thead>\n",
              "    <tr style=\"text-align: right;\">\n",
              "      <th></th>\n",
              "      <th>proportion</th>\n",
              "    </tr>\n",
              "    <tr>\n",
              "      <th>work_type</th>\n",
              "      <th></th>\n",
              "    </tr>\n",
              "  </thead>\n",
              "  <tbody>\n",
              "    <tr>\n",
              "      <th>Private</th>\n",
              "      <td>0.572407</td>\n",
              "    </tr>\n",
              "    <tr>\n",
              "      <th>Self-employed</th>\n",
              "      <td>0.160274</td>\n",
              "    </tr>\n",
              "    <tr>\n",
              "      <th>children</th>\n",
              "      <td>0.134442</td>\n",
              "    </tr>\n",
              "    <tr>\n",
              "      <th>Govt_job</th>\n",
              "      <td>0.128571</td>\n",
              "    </tr>\n",
              "    <tr>\n",
              "      <th>Never_worked</th>\n",
              "      <td>0.004305</td>\n",
              "    </tr>\n",
              "  </tbody>\n",
              "</table><br><label><b>dtype:</b> float64</label>"
            ]
          },
          "metadata": {}
        },
        {
          "output_type": "stream",
          "name": "stdout",
          "text": [
            "##############################\n"
          ]
        },
        {
          "output_type": "display_data",
          "data": {
            "text/plain": [
              "Residence_type\n",
              "Urban    0.508023\n",
              "Rural    0.491977\n",
              "Name: proportion, dtype: float64"
            ],
            "text/html": [
              "<table border=\"1\" class=\"dataframe\">\n",
              "  <thead>\n",
              "    <tr style=\"text-align: right;\">\n",
              "      <th></th>\n",
              "      <th>proportion</th>\n",
              "    </tr>\n",
              "    <tr>\n",
              "      <th>Residence_type</th>\n",
              "      <th></th>\n",
              "    </tr>\n",
              "  </thead>\n",
              "  <tbody>\n",
              "    <tr>\n",
              "      <th>Urban</th>\n",
              "      <td>0.508023</td>\n",
              "    </tr>\n",
              "    <tr>\n",
              "      <th>Rural</th>\n",
              "      <td>0.491977</td>\n",
              "    </tr>\n",
              "  </tbody>\n",
              "</table><br><label><b>dtype:</b> float64</label>"
            ]
          },
          "metadata": {}
        },
        {
          "output_type": "stream",
          "name": "stdout",
          "text": [
            "##############################\n"
          ]
        },
        {
          "output_type": "display_data",
          "data": {
            "text/plain": [
              "smoking_status\n",
              "never smoked       0.370254\n",
              "Unknown            0.302153\n",
              "formerly smoked    0.173190\n",
              "smokes             0.154403\n",
              "Name: proportion, dtype: float64"
            ],
            "text/html": [
              "<table border=\"1\" class=\"dataframe\">\n",
              "  <thead>\n",
              "    <tr style=\"text-align: right;\">\n",
              "      <th></th>\n",
              "      <th>proportion</th>\n",
              "    </tr>\n",
              "    <tr>\n",
              "      <th>smoking_status</th>\n",
              "      <th></th>\n",
              "    </tr>\n",
              "  </thead>\n",
              "  <tbody>\n",
              "    <tr>\n",
              "      <th>never smoked</th>\n",
              "      <td>0.370254</td>\n",
              "    </tr>\n",
              "    <tr>\n",
              "      <th>Unknown</th>\n",
              "      <td>0.302153</td>\n",
              "    </tr>\n",
              "    <tr>\n",
              "      <th>formerly smoked</th>\n",
              "      <td>0.173190</td>\n",
              "    </tr>\n",
              "    <tr>\n",
              "      <th>smokes</th>\n",
              "      <td>0.154403</td>\n",
              "    </tr>\n",
              "  </tbody>\n",
              "</table><br><label><b>dtype:</b> float64</label>"
            ]
          },
          "metadata": {}
        },
        {
          "output_type": "stream",
          "name": "stdout",
          "text": [
            "##############################\n"
          ]
        },
        {
          "output_type": "display_data",
          "data": {
            "text/plain": [
              "hypertension\n",
              "0    0.902544\n",
              "1    0.097456\n",
              "Name: proportion, dtype: float64"
            ],
            "text/html": [
              "<table border=\"1\" class=\"dataframe\">\n",
              "  <thead>\n",
              "    <tr style=\"text-align: right;\">\n",
              "      <th></th>\n",
              "      <th>proportion</th>\n",
              "    </tr>\n",
              "    <tr>\n",
              "      <th>hypertension</th>\n",
              "      <th></th>\n",
              "    </tr>\n",
              "  </thead>\n",
              "  <tbody>\n",
              "    <tr>\n",
              "      <th>0</th>\n",
              "      <td>0.902544</td>\n",
              "    </tr>\n",
              "    <tr>\n",
              "      <th>1</th>\n",
              "      <td>0.097456</td>\n",
              "    </tr>\n",
              "  </tbody>\n",
              "</table><br><label><b>dtype:</b> float64</label>"
            ]
          },
          "metadata": {}
        },
        {
          "output_type": "stream",
          "name": "stdout",
          "text": [
            "##############################\n"
          ]
        },
        {
          "output_type": "display_data",
          "data": {
            "text/plain": [
              "heart_disease\n",
              "0    0.945988\n",
              "1    0.054012\n",
              "Name: proportion, dtype: float64"
            ],
            "text/html": [
              "<table border=\"1\" class=\"dataframe\">\n",
              "  <thead>\n",
              "    <tr style=\"text-align: right;\">\n",
              "      <th></th>\n",
              "      <th>proportion</th>\n",
              "    </tr>\n",
              "    <tr>\n",
              "      <th>heart_disease</th>\n",
              "      <th></th>\n",
              "    </tr>\n",
              "  </thead>\n",
              "  <tbody>\n",
              "    <tr>\n",
              "      <th>0</th>\n",
              "      <td>0.945988</td>\n",
              "    </tr>\n",
              "    <tr>\n",
              "      <th>1</th>\n",
              "      <td>0.054012</td>\n",
              "    </tr>\n",
              "  </tbody>\n",
              "</table><br><label><b>dtype:</b> float64</label>"
            ]
          },
          "metadata": {}
        },
        {
          "output_type": "stream",
          "name": "stdout",
          "text": [
            "##############################\n"
          ]
        }
      ]
    },
    {
      "cell_type": "code",
      "source": [
        "df['stroke'].value_counts(normalize=True)\n",
        "stroke_mean = round(df['stroke'].mean() ,3)\n",
        "stroke_mean # imbalance"
      ],
      "metadata": {
        "colab": {
          "base_uri": "https://localhost:8080/"
        },
        "id": "7DkWjGXOZLeZ",
        "outputId": "2af99ae8-641c-44b1-807f-23d5a8de172e"
      },
      "execution_count": 35,
      "outputs": [
        {
          "output_type": "execute_result",
          "data": {
            "text/plain": [
              "0.049"
            ]
          },
          "metadata": {},
          "execution_count": 35
        }
      ]
    },
    {
      "cell_type": "markdown",
      "source": [
        "## ERROR CORRECTIONS"
      ],
      "metadata": {
        "id": "MntuWjaXZdfg"
      }
    },
    {
      "cell_type": "code",
      "source": [
        "# drop the incetences with other in gender\n",
        "df.drop(df[df['gender'] == \"Other\"].index , axis = 0 , inplace = True)\n",
        "# any formerly smoked as smokes\n",
        "df['smoking_status'].iloc[df['smoking_status'] == 'formerly smoked'] = 'smokes'\n",
        "# treating unknown inctences as NaN's\n",
        "df.drop(df[df['smoking_status'] == 'Unknown'].index ,axis=0 , inplace=True)"
      ],
      "metadata": {
        "id": "C37woVunZlds"
      },
      "execution_count": 36,
      "outputs": []
    },
    {
      "cell_type": "code",
      "source": [
        "# Missing Values\n",
        "num = list(df.select_dtypes(exclude=\"O\").columns)\n",
        "df[num].isnull().sum()\n",
        "df['bmi'] = df['bmi'].fillna(df['bmi'].mean())"
      ],
      "metadata": {
        "colab": {
          "base_uri": "https://localhost:8080/",
          "height": 178
        },
        "id": "rQzmzJIaaZsd",
        "outputId": "b3d4a8e4-1aaa-421b-f6da-4c42c2cbef5c"
      },
      "execution_count": 38,
      "outputs": [
        {
          "output_type": "execute_result",
          "data": {
            "text/plain": [
              "age                    0\n",
              "avg_glucose_level      0\n",
              "bmi                  140\n",
              "dtype: int64"
            ],
            "text/html": [
              "<table border=\"1\" class=\"dataframe\">\n",
              "  <thead>\n",
              "    <tr style=\"text-align: right;\">\n",
              "      <th></th>\n",
              "      <th>0</th>\n",
              "    </tr>\n",
              "  </thead>\n",
              "  <tbody>\n",
              "    <tr>\n",
              "      <th>age</th>\n",
              "      <td>0</td>\n",
              "    </tr>\n",
              "    <tr>\n",
              "      <th>avg_glucose_level</th>\n",
              "      <td>0</td>\n",
              "    </tr>\n",
              "    <tr>\n",
              "      <th>bmi</th>\n",
              "      <td>140</td>\n",
              "    </tr>\n",
              "  </tbody>\n",
              "</table><br><label><b>dtype:</b> int64</label>"
            ]
          },
          "metadata": {},
          "execution_count": 38
        }
      ]
    },
    {
      "cell_type": "code",
      "source": [
        "df[num].corr()"
      ],
      "metadata": {
        "colab": {
          "base_uri": "https://localhost:8080/",
          "height": 143
        },
        "id": "Nywx0qiRa9ov",
        "outputId": "b7a6d6a8-9ee2-4510-e515-2d3df50cebdc"
      },
      "execution_count": 39,
      "outputs": [
        {
          "output_type": "execute_result",
          "data": {
            "text/plain": [
              "                        age  avg_glucose_level       bmi\n",
              "age                1.000000           0.233005  0.079317\n",
              "avg_glucose_level  0.233005           1.000000  0.156675\n",
              "bmi                0.079317           0.156675  1.000000"
            ],
            "text/html": [
              "\n",
              "  <div id=\"df-7476d40a-dbc6-4561-a8cc-1274baccf8c1\" class=\"colab-df-container\">\n",
              "    <div>\n",
              "<style scoped>\n",
              "    .dataframe tbody tr th:only-of-type {\n",
              "        vertical-align: middle;\n",
              "    }\n",
              "\n",
              "    .dataframe tbody tr th {\n",
              "        vertical-align: top;\n",
              "    }\n",
              "\n",
              "    .dataframe thead th {\n",
              "        text-align: right;\n",
              "    }\n",
              "</style>\n",
              "<table border=\"1\" class=\"dataframe\">\n",
              "  <thead>\n",
              "    <tr style=\"text-align: right;\">\n",
              "      <th></th>\n",
              "      <th>age</th>\n",
              "      <th>avg_glucose_level</th>\n",
              "      <th>bmi</th>\n",
              "    </tr>\n",
              "  </thead>\n",
              "  <tbody>\n",
              "    <tr>\n",
              "      <th>age</th>\n",
              "      <td>1.000000</td>\n",
              "      <td>0.233005</td>\n",
              "      <td>0.079317</td>\n",
              "    </tr>\n",
              "    <tr>\n",
              "      <th>avg_glucose_level</th>\n",
              "      <td>0.233005</td>\n",
              "      <td>1.000000</td>\n",
              "      <td>0.156675</td>\n",
              "    </tr>\n",
              "    <tr>\n",
              "      <th>bmi</th>\n",
              "      <td>0.079317</td>\n",
              "      <td>0.156675</td>\n",
              "      <td>1.000000</td>\n",
              "    </tr>\n",
              "  </tbody>\n",
              "</table>\n",
              "</div>\n",
              "    <div class=\"colab-df-buttons\">\n",
              "\n",
              "  <div class=\"colab-df-container\">\n",
              "    <button class=\"colab-df-convert\" onclick=\"convertToInteractive('df-7476d40a-dbc6-4561-a8cc-1274baccf8c1')\"\n",
              "            title=\"Convert this dataframe to an interactive table.\"\n",
              "            style=\"display:none;\">\n",
              "\n",
              "  <svg xmlns=\"http://www.w3.org/2000/svg\" height=\"24px\" viewBox=\"0 -960 960 960\">\n",
              "    <path d=\"M120-120v-720h720v720H120Zm60-500h600v-160H180v160Zm220 220h160v-160H400v160Zm0 220h160v-160H400v160ZM180-400h160v-160H180v160Zm440 0h160v-160H620v160ZM180-180h160v-160H180v160Zm440 0h160v-160H620v160Z\"/>\n",
              "  </svg>\n",
              "    </button>\n",
              "\n",
              "  <style>\n",
              "    .colab-df-container {\n",
              "      display:flex;\n",
              "      gap: 12px;\n",
              "    }\n",
              "\n",
              "    .colab-df-convert {\n",
              "      background-color: #E8F0FE;\n",
              "      border: none;\n",
              "      border-radius: 50%;\n",
              "      cursor: pointer;\n",
              "      display: none;\n",
              "      fill: #1967D2;\n",
              "      height: 32px;\n",
              "      padding: 0 0 0 0;\n",
              "      width: 32px;\n",
              "    }\n",
              "\n",
              "    .colab-df-convert:hover {\n",
              "      background-color: #E2EBFA;\n",
              "      box-shadow: 0px 1px 2px rgba(60, 64, 67, 0.3), 0px 1px 3px 1px rgba(60, 64, 67, 0.15);\n",
              "      fill: #174EA6;\n",
              "    }\n",
              "\n",
              "    .colab-df-buttons div {\n",
              "      margin-bottom: 4px;\n",
              "    }\n",
              "\n",
              "    [theme=dark] .colab-df-convert {\n",
              "      background-color: #3B4455;\n",
              "      fill: #D2E3FC;\n",
              "    }\n",
              "\n",
              "    [theme=dark] .colab-df-convert:hover {\n",
              "      background-color: #434B5C;\n",
              "      box-shadow: 0px 1px 3px 1px rgba(0, 0, 0, 0.15);\n",
              "      filter: drop-shadow(0px 1px 2px rgba(0, 0, 0, 0.3));\n",
              "      fill: #FFFFFF;\n",
              "    }\n",
              "  </style>\n",
              "\n",
              "    <script>\n",
              "      const buttonEl =\n",
              "        document.querySelector('#df-7476d40a-dbc6-4561-a8cc-1274baccf8c1 button.colab-df-convert');\n",
              "      buttonEl.style.display =\n",
              "        google.colab.kernel.accessAllowed ? 'block' : 'none';\n",
              "\n",
              "      async function convertToInteractive(key) {\n",
              "        const element = document.querySelector('#df-7476d40a-dbc6-4561-a8cc-1274baccf8c1');\n",
              "        const dataTable =\n",
              "          await google.colab.kernel.invokeFunction('convertToInteractive',\n",
              "                                                    [key], {});\n",
              "        if (!dataTable) return;\n",
              "\n",
              "        const docLinkHtml = 'Like what you see? Visit the ' +\n",
              "          '<a target=\"_blank\" href=https://colab.research.google.com/notebooks/data_table.ipynb>data table notebook</a>'\n",
              "          + ' to learn more about interactive tables.';\n",
              "        element.innerHTML = '';\n",
              "        dataTable['output_type'] = 'display_data';\n",
              "        await google.colab.output.renderOutput(dataTable, element);\n",
              "        const docLink = document.createElement('div');\n",
              "        docLink.innerHTML = docLinkHtml;\n",
              "        element.appendChild(docLink);\n",
              "      }\n",
              "    </script>\n",
              "  </div>\n",
              "\n",
              "\n",
              "<div id=\"df-e56c122c-13d6-4010-b16e-e5a95b7a20d1\">\n",
              "  <button class=\"colab-df-quickchart\" onclick=\"quickchart('df-e56c122c-13d6-4010-b16e-e5a95b7a20d1')\"\n",
              "            title=\"Suggest charts\"\n",
              "            style=\"display:none;\">\n",
              "\n",
              "<svg xmlns=\"http://www.w3.org/2000/svg\" height=\"24px\"viewBox=\"0 0 24 24\"\n",
              "     width=\"24px\">\n",
              "    <g>\n",
              "        <path d=\"M19 3H5c-1.1 0-2 .9-2 2v14c0 1.1.9 2 2 2h14c1.1 0 2-.9 2-2V5c0-1.1-.9-2-2-2zM9 17H7v-7h2v7zm4 0h-2V7h2v10zm4 0h-2v-4h2v4z\"/>\n",
              "    </g>\n",
              "</svg>\n",
              "  </button>\n",
              "\n",
              "<style>\n",
              "  .colab-df-quickchart {\n",
              "      --bg-color: #E8F0FE;\n",
              "      --fill-color: #1967D2;\n",
              "      --hover-bg-color: #E2EBFA;\n",
              "      --hover-fill-color: #174EA6;\n",
              "      --disabled-fill-color: #AAA;\n",
              "      --disabled-bg-color: #DDD;\n",
              "  }\n",
              "\n",
              "  [theme=dark] .colab-df-quickchart {\n",
              "      --bg-color: #3B4455;\n",
              "      --fill-color: #D2E3FC;\n",
              "      --hover-bg-color: #434B5C;\n",
              "      --hover-fill-color: #FFFFFF;\n",
              "      --disabled-bg-color: #3B4455;\n",
              "      --disabled-fill-color: #666;\n",
              "  }\n",
              "\n",
              "  .colab-df-quickchart {\n",
              "    background-color: var(--bg-color);\n",
              "    border: none;\n",
              "    border-radius: 50%;\n",
              "    cursor: pointer;\n",
              "    display: none;\n",
              "    fill: var(--fill-color);\n",
              "    height: 32px;\n",
              "    padding: 0;\n",
              "    width: 32px;\n",
              "  }\n",
              "\n",
              "  .colab-df-quickchart:hover {\n",
              "    background-color: var(--hover-bg-color);\n",
              "    box-shadow: 0 1px 2px rgba(60, 64, 67, 0.3), 0 1px 3px 1px rgba(60, 64, 67, 0.15);\n",
              "    fill: var(--button-hover-fill-color);\n",
              "  }\n",
              "\n",
              "  .colab-df-quickchart-complete:disabled,\n",
              "  .colab-df-quickchart-complete:disabled:hover {\n",
              "    background-color: var(--disabled-bg-color);\n",
              "    fill: var(--disabled-fill-color);\n",
              "    box-shadow: none;\n",
              "  }\n",
              "\n",
              "  .colab-df-spinner {\n",
              "    border: 2px solid var(--fill-color);\n",
              "    border-color: transparent;\n",
              "    border-bottom-color: var(--fill-color);\n",
              "    animation:\n",
              "      spin 1s steps(1) infinite;\n",
              "  }\n",
              "\n",
              "  @keyframes spin {\n",
              "    0% {\n",
              "      border-color: transparent;\n",
              "      border-bottom-color: var(--fill-color);\n",
              "      border-left-color: var(--fill-color);\n",
              "    }\n",
              "    20% {\n",
              "      border-color: transparent;\n",
              "      border-left-color: var(--fill-color);\n",
              "      border-top-color: var(--fill-color);\n",
              "    }\n",
              "    30% {\n",
              "      border-color: transparent;\n",
              "      border-left-color: var(--fill-color);\n",
              "      border-top-color: var(--fill-color);\n",
              "      border-right-color: var(--fill-color);\n",
              "    }\n",
              "    40% {\n",
              "      border-color: transparent;\n",
              "      border-right-color: var(--fill-color);\n",
              "      border-top-color: var(--fill-color);\n",
              "    }\n",
              "    60% {\n",
              "      border-color: transparent;\n",
              "      border-right-color: var(--fill-color);\n",
              "    }\n",
              "    80% {\n",
              "      border-color: transparent;\n",
              "      border-right-color: var(--fill-color);\n",
              "      border-bottom-color: var(--fill-color);\n",
              "    }\n",
              "    90% {\n",
              "      border-color: transparent;\n",
              "      border-bottom-color: var(--fill-color);\n",
              "    }\n",
              "  }\n",
              "</style>\n",
              "\n",
              "  <script>\n",
              "    async function quickchart(key) {\n",
              "      const quickchartButtonEl =\n",
              "        document.querySelector('#' + key + ' button');\n",
              "      quickchartButtonEl.disabled = true;  // To prevent multiple clicks.\n",
              "      quickchartButtonEl.classList.add('colab-df-spinner');\n",
              "      try {\n",
              "        const charts = await google.colab.kernel.invokeFunction(\n",
              "            'suggestCharts', [key], {});\n",
              "      } catch (error) {\n",
              "        console.error('Error during call to suggestCharts:', error);\n",
              "      }\n",
              "      quickchartButtonEl.classList.remove('colab-df-spinner');\n",
              "      quickchartButtonEl.classList.add('colab-df-quickchart-complete');\n",
              "    }\n",
              "    (() => {\n",
              "      let quickchartButtonEl =\n",
              "        document.querySelector('#df-e56c122c-13d6-4010-b16e-e5a95b7a20d1 button');\n",
              "      quickchartButtonEl.style.display =\n",
              "        google.colab.kernel.accessAllowed ? 'block' : 'none';\n",
              "    })();\n",
              "  </script>\n",
              "</div>\n",
              "\n",
              "    </div>\n",
              "  </div>\n"
            ],
            "application/vnd.google.colaboratory.intrinsic+json": {
              "type": "dataframe",
              "summary": "{\n  \"name\": \"df[num]\",\n  \"rows\": 3,\n  \"fields\": [\n    {\n      \"column\": \"age\",\n      \"properties\": {\n        \"dtype\": \"number\",\n        \"std\": 0.49321385315179656,\n        \"min\": 0.07931682577115604,\n        \"max\": 1.0,\n        \"num_unique_values\": 3,\n        \"samples\": [\n          1.0,\n          0.2330045618720111,\n          0.07931682577115604\n        ],\n        \"semantic_type\": \"\",\n        \"description\": \"\"\n      }\n    },\n    {\n      \"column\": \"avg_glucose_level\",\n      \"properties\": {\n        \"dtype\": \"number\",\n        \"std\": 0.4664236305511649,\n        \"min\": 0.15667458730747968,\n        \"max\": 1.0,\n        \"num_unique_values\": 3,\n        \"samples\": [\n          0.2330045618720111,\n          1.0,\n          0.15667458730747968\n        ],\n        \"semantic_type\": \"\",\n        \"description\": \"\"\n      }\n    },\n    {\n      \"column\": \"bmi\",\n      \"properties\": {\n        \"dtype\": \"number\",\n        \"std\": 0.5106922560392936,\n        \"min\": 0.07931682577115604,\n        \"max\": 1.0,\n        \"num_unique_values\": 3,\n        \"samples\": [\n          0.07931682577115604,\n          0.15667458730747968,\n          1.0\n        ],\n        \"semantic_type\": \"\",\n        \"description\": \"\"\n      }\n    }\n  ]\n}"
            }
          },
          "metadata": {},
          "execution_count": 39
        }
      ]
    },
    {
      "cell_type": "code",
      "source": [
        "df.drop('bmi', axis=1, inplace=True)\n",
        "num.remove('bmi')"
      ],
      "metadata": {
        "id": "kFtp3NIPbM3Y"
      },
      "execution_count": 40,
      "outputs": []
    },
    {
      "cell_type": "markdown",
      "source": [
        "## Modeling\n",
        "## Data Resampling and Splitting"
      ],
      "metadata": {
        "id": "WOq3KBRXbXyP"
      }
    },
    {
      "cell_type": "code",
      "source": [
        "train , test_df  = train_test_split(df , test_size=0.3 , random_state=42 , shuffle=True)\n",
        "train_df , valid_df = train_test_split(train , test_size=0.15 , random_state=42 , shuffle=True)"
      ],
      "metadata": {
        "id": "WGf-3gS9betP"
      },
      "execution_count": 41,
      "outputs": []
    },
    {
      "cell_type": "code",
      "source": [
        "train_df.shape , valid_df.shape , test_df.shape"
      ],
      "metadata": {
        "colab": {
          "base_uri": "https://localhost:8080/"
        },
        "id": "qEQ95xv1bwDT",
        "outputId": "ed8de58f-17cb-42e2-be89-42021b409cb7"
      },
      "execution_count": 42,
      "outputs": [
        {
          "output_type": "execute_result",
          "data": {
            "text/plain": [
              "((2120, 10), (375, 10), (1070, 10))"
            ]
          },
          "metadata": {},
          "execution_count": 42
        }
      ]
    },
    {
      "cell_type": "markdown",
      "source": [
        "## Data preprocessing"
      ],
      "metadata": {
        "id": "dsW27PgYb2Sp"
      }
    },
    {
      "cell_type": "code",
      "source": [
        "# Transformers\n",
        "from sklearn.compose import make_column_transformer\n",
        "def preprocess(df_train, df_valid , df_test, num, cat):\n",
        "    # Define transformers\n",
        "    ohe = OneHotEncoder(drop='first')\n",
        "    mms = MinMaxScaler()\n",
        "    scaler =StandardScaler()\n",
        "\n",
        "    transformer = make_column_transformer((mms, num),\n",
        "                                           (ohe, cat),\n",
        "                                          remainder='passthrough',verbose_feature_names_out=False)\n",
        "    # Fitting & Transformation\n",
        "    X_train = transformer.fit_transform(df_train[cat+num])\n",
        "    X_valid = transformer.transform(df_valid[cat+num])\n",
        "    X_test = transformer.fit_transform(df_test[cat+num])\n",
        "    columns=transformer.get_feature_names_out()\n",
        "    X_train = pd.DataFrame(X_train , columns=columns)\n",
        "    X_valid = pd.DataFrame(X_valid , columns=columns)\n",
        "    X_test = pd.DataFrame(X_test , columns=columns)\n",
        "    cat = [i for i in list(columns) if i not in num]\n",
        "    X_train[cat] = scaler.fit_transform(X_train[cat])\n",
        "    X_valid[cat] = scaler.transform(X_valid[cat])\n",
        "    X_test[cat] = scaler.fit_transform(X_test[cat])\n",
        "\n",
        "\n",
        "    return X_train , X_valid, X_test, list(columns)"
      ],
      "metadata": {
        "id": "ZHf3wBWXb4g4"
      },
      "execution_count": 43,
      "outputs": []
    },
    {
      "cell_type": "code",
      "source": [
        "X_train , X_val , X_test ,columns = preprocess(train_df, valid_df, test_df , num, cat)"
      ],
      "metadata": {
        "id": "wuel1quMcBnQ"
      },
      "execution_count": 44,
      "outputs": []
    },
    {
      "cell_type": "code",
      "source": [
        "y_train = train_df.stroke.astype(\"int\")\n",
        "y_valid = valid_df.stroke.astype(\"int\")\n",
        "y_test_df = test_df.stroke.astype(\"int\")"
      ],
      "metadata": {
        "id": "poM0CXqgcydt"
      },
      "execution_count": 47,
      "outputs": []
    },
    {
      "cell_type": "markdown",
      "source": [
        "## Trying Different Models"
      ],
      "metadata": {
        "id": "MBEpXm-ucGKY"
      }
    },
    {
      "cell_type": "code",
      "source": [
        "from sklearn.ensemble import VotingClassifier\n",
        "from sklearn.ensemble import StackingClassifier\n",
        "from xgboost import XGBClassifier\n",
        "\n",
        "xgb = XGBClassifier()\n",
        "\n",
        "lr = LogisticRegression(random_state=42 , C=0.5 , penalty = 'l2'  , class_weight={1 :0.7} )\n",
        "\n",
        "tr = DecisionTreeClassifier(criterion=\"entropy\" )\n",
        "\n",
        "svc = SVC(random_state=42)\n",
        "\n",
        "rm = RandomForestClassifier(n_estimators=30 , criterion=\"entropy\" )\n",
        "\n",
        "\n",
        "meta_model = SVC(kernel='linear', probability=True)\n",
        "\n",
        "# Create a stacking classifier\n",
        "vot = VotingClassifier(estimators=[\n",
        "    ('lr', lr),\n",
        "     ('tr', tr),\n",
        "    ('gb', xgb)\n",
        "])"
      ],
      "metadata": {
        "id": "4M7C7fBZcFWx"
      },
      "execution_count": 48,
      "outputs": []
    },
    {
      "cell_type": "code",
      "source": [
        "from imblearn.under_sampling import TomekLinks\n",
        "from imblearn.over_sampling import SMOTE\n",
        "from imblearn.combine import SMOTETomek\n",
        "from imblearn.under_sampling import ClusterCentroids\n",
        "from sklearn.metrics import accuracy_score , f1_score , roc_curve , confusion_matrix , recall_score\n",
        "from sklearn.metrics import classification_report\n",
        "from sklearn.model_selection import cross_val_score\n",
        "\n",
        "\n",
        "models_pred = []\n",
        "smote = SMOTE(random_state=42)\n",
        "X_re , y_re  = smote.fit_resample(X_train , y_train)\n",
        "\n",
        "print(f\"Data shape : {X_re.shape}\")\n",
        "for model in [lr , svc  , tr  , rm , xgb , vot]:\n",
        "    print(f\"* {model} \\n\")\n",
        "    model.fit(X_re, y_re)\n",
        "    t_pred = model.predict(X_train)\n",
        "    print('Train Confustion metric \\n' , confusion_matrix(y_train ,t_pred))\n",
        "    print(\"Train Cls Report \\n\" ,classification_report(y_train , t_pred))\n",
        "    print(\"-\"*50)\n",
        "    val_pre = model.predict(X_val)\n",
        "    print('validation Confustion metric \\n' , confusion_matrix(y_valid ,val_pre))\n",
        "    print(\"validation Cls Report \\n\" ,classification_report(y_valid , val_pre))\n",
        "    print(\"-\"*50)\n",
        "    scores = cross_val_score(model , X_re , y_re , cv= KFold(n_splits=5 , shuffle=True) )\n",
        "    print(\"Cross val score : \" ,np.mean(scores))\n",
        "    print(\"-\"*50)"
      ],
      "metadata": {
        "colab": {
          "base_uri": "https://localhost:8080/"
        },
        "id": "xijFEoEVcZ20",
        "outputId": "ee88046d-16f0-4052-f178-f7e9b5ad4384"
      },
      "execution_count": 49,
      "outputs": [
        {
          "output_type": "stream",
          "name": "stdout",
          "text": [
            "Data shape : (4008, 12)\n",
            "* LogisticRegression(C=0.5, class_weight={1: 0.7}, random_state=42) \n",
            "\n",
            "Train Confustion metric \n",
            " [[1571  433]\n",
            " [  35   81]]\n",
            "Train Cls Report \n",
            "               precision    recall  f1-score   support\n",
            "\n",
            "           0       0.98      0.78      0.87      2004\n",
            "           1       0.16      0.70      0.26       116\n",
            "\n",
            "    accuracy                           0.78      2120\n",
            "   macro avg       0.57      0.74      0.56      2120\n",
            "weighted avg       0.93      0.78      0.84      2120\n",
            "\n",
            "--------------------------------------------------\n",
            "validation Confustion metric \n",
            " [[284  72]\n",
            " [  5  14]]\n",
            "validation Cls Report \n",
            "               precision    recall  f1-score   support\n",
            "\n",
            "           0       0.98      0.80      0.88       356\n",
            "           1       0.16      0.74      0.27        19\n",
            "\n",
            "    accuracy                           0.79       375\n",
            "   macro avg       0.57      0.77      0.57       375\n",
            "weighted avg       0.94      0.79      0.85       375\n",
            "\n",
            "--------------------------------------------------\n",
            "Cross val score :  0.7639742715620437\n",
            "--------------------------------------------------\n",
            "* SVC(random_state=42) \n",
            "\n",
            "Train Confustion metric \n",
            " [[1546  458]\n",
            " [  18   98]]\n",
            "Train Cls Report \n",
            "               precision    recall  f1-score   support\n",
            "\n",
            "           0       0.99      0.77      0.87      2004\n",
            "           1       0.18      0.84      0.29       116\n",
            "\n",
            "    accuracy                           0.78      2120\n",
            "   macro avg       0.58      0.81      0.58      2120\n",
            "weighted avg       0.94      0.78      0.84      2120\n",
            "\n",
            "--------------------------------------------------\n",
            "validation Confustion metric \n",
            " [[279  77]\n",
            " [  5  14]]\n",
            "validation Cls Report \n",
            "               precision    recall  f1-score   support\n",
            "\n",
            "           0       0.98      0.78      0.87       356\n",
            "           1       0.15      0.74      0.25        19\n",
            "\n",
            "    accuracy                           0.78       375\n",
            "   macro avg       0.57      0.76      0.56       375\n",
            "weighted avg       0.94      0.78      0.84       375\n",
            "\n",
            "--------------------------------------------------\n",
            "Cross val score :  0.837329584901666\n",
            "--------------------------------------------------\n",
            "* DecisionTreeClassifier(criterion='entropy') \n",
            "\n",
            "Train Confustion metric \n",
            " [[2004    0]\n",
            " [   0  116]]\n",
            "Train Cls Report \n",
            "               precision    recall  f1-score   support\n",
            "\n",
            "           0       1.00      1.00      1.00      2004\n",
            "           1       1.00      1.00      1.00       116\n",
            "\n",
            "    accuracy                           1.00      2120\n",
            "   macro avg       1.00      1.00      1.00      2120\n",
            "weighted avg       1.00      1.00      1.00      2120\n",
            "\n",
            "--------------------------------------------------\n",
            "validation Confustion metric \n",
            " [[321  35]\n",
            " [ 12   7]]\n",
            "validation Cls Report \n",
            "               precision    recall  f1-score   support\n",
            "\n",
            "           0       0.96      0.90      0.93       356\n",
            "           1       0.17      0.37      0.23        19\n",
            "\n",
            "    accuracy                           0.87       375\n",
            "   macro avg       0.57      0.64      0.58       375\n",
            "weighted avg       0.92      0.87      0.90       375\n",
            "\n",
            "--------------------------------------------------\n",
            "Cross val score :  0.8750013231590188\n",
            "--------------------------------------------------\n",
            "* RandomForestClassifier(criterion='entropy', n_estimators=30) \n",
            "\n",
            "Train Confustion metric \n",
            " [[2002    2]\n",
            " [   0  116]]\n",
            "Train Cls Report \n",
            "               precision    recall  f1-score   support\n",
            "\n",
            "           0       1.00      1.00      1.00      2004\n",
            "           1       0.98      1.00      0.99       116\n",
            "\n",
            "    accuracy                           1.00      2120\n",
            "   macro avg       0.99      1.00      1.00      2120\n",
            "weighted avg       1.00      1.00      1.00      2120\n",
            "\n",
            "--------------------------------------------------\n",
            "validation Confustion metric \n",
            " [[329  27]\n",
            " [ 13   6]]\n",
            "validation Cls Report \n",
            "               precision    recall  f1-score   support\n",
            "\n",
            "           0       0.96      0.92      0.94       356\n",
            "           1       0.18      0.32      0.23        19\n",
            "\n",
            "    accuracy                           0.89       375\n",
            "   macro avg       0.57      0.62      0.59       375\n",
            "weighted avg       0.92      0.89      0.91       375\n",
            "\n",
            "--------------------------------------------------\n",
            "Cross val score :  0.9166674449955012\n",
            "--------------------------------------------------\n",
            "* XGBClassifier(base_score=None, booster=None, callbacks=None,\n",
            "              colsample_bylevel=None, colsample_bynode=None,\n",
            "              colsample_bytree=None, device=None, early_stopping_rounds=None,\n",
            "              enable_categorical=False, eval_metric=None, feature_types=None,\n",
            "              gamma=None, grow_policy=None, importance_type=None,\n",
            "              interaction_constraints=None, learning_rate=None, max_bin=None,\n",
            "              max_cat_threshold=None, max_cat_to_onehot=None,\n",
            "              max_delta_step=None, max_depth=None, max_leaves=None,\n",
            "              min_child_weight=None, missing=nan, monotone_constraints=None,\n",
            "              multi_strategy=None, n_estimators=None, n_jobs=None,\n",
            "              num_parallel_tree=None, random_state=None, ...) \n",
            "\n",
            "Train Confustion metric \n",
            " [[1988   16]\n",
            " [  13  103]]\n",
            "Train Cls Report \n",
            "               precision    recall  f1-score   support\n",
            "\n",
            "           0       0.99      0.99      0.99      2004\n",
            "           1       0.87      0.89      0.88       116\n",
            "\n",
            "    accuracy                           0.99      2120\n",
            "   macro avg       0.93      0.94      0.93      2120\n",
            "weighted avg       0.99      0.99      0.99      2120\n",
            "\n",
            "--------------------------------------------------\n",
            "validation Confustion metric \n",
            " [[332  24]\n",
            " [ 16   3]]\n",
            "validation Cls Report \n",
            "               precision    recall  f1-score   support\n",
            "\n",
            "           0       0.95      0.93      0.94       356\n",
            "           1       0.11      0.16      0.13        19\n",
            "\n",
            "    accuracy                           0.89       375\n",
            "   macro avg       0.53      0.55      0.54       375\n",
            "weighted avg       0.91      0.89      0.90       375\n",
            "\n",
            "--------------------------------------------------\n",
            "Cross val score :  0.9243974956491419\n",
            "--------------------------------------------------\n",
            "* VotingClassifier(estimators=[('lr',\n",
            "                              LogisticRegression(C=0.5, class_weight={1: 0.7},\n",
            "                                                 random_state=42)),\n",
            "                             ('tr',\n",
            "                              DecisionTreeClassifier(criterion='entropy')),\n",
            "                             ('gb',\n",
            "                              XGBClassifier(base_score=None, booster=None,\n",
            "                                            callbacks=None,\n",
            "                                            colsample_bylevel=None,\n",
            "                                            colsample_bynode=None,\n",
            "                                            colsample_bytree=None, device=None,\n",
            "                                            early_stopping_rounds=None,\n",
            "                                            enable_categorical=False,\n",
            "                                            eval_...\n",
            "                                            grow_policy=None,\n",
            "                                            importance_type=None,\n",
            "                                            interaction_constraints=None,\n",
            "                                            learning_rate=None, max_bin=None,\n",
            "                                            max_cat_threshold=None,\n",
            "                                            max_cat_to_onehot=None,\n",
            "                                            max_delta_step=None, max_depth=None,\n",
            "                                            max_leaves=None,\n",
            "                                            min_child_weight=None, missing=nan,\n",
            "                                            monotone_constraints=None,\n",
            "                                            multi_strategy=None,\n",
            "                                            n_estimators=None, n_jobs=None,\n",
            "                                            num_parallel_tree=None,\n",
            "                                            random_state=None, ...))]) \n",
            "\n",
            "Train Confustion metric \n",
            " [[1993   11]\n",
            " [   9  107]]\n",
            "Train Cls Report \n",
            "               precision    recall  f1-score   support\n",
            "\n",
            "           0       1.00      0.99      1.00      2004\n",
            "           1       0.91      0.92      0.91       116\n",
            "\n",
            "    accuracy                           0.99      2120\n",
            "   macro avg       0.95      0.96      0.95      2120\n",
            "weighted avg       0.99      0.99      0.99      2120\n",
            "\n",
            "--------------------------------------------------\n",
            "validation Confustion metric \n",
            " [[320  36]\n",
            " [ 11   8]]\n",
            "validation Cls Report \n",
            "               precision    recall  f1-score   support\n",
            "\n",
            "           0       0.97      0.90      0.93       356\n",
            "           1       0.18      0.42      0.25        19\n",
            "\n",
            "    accuracy                           0.87       375\n",
            "   macro avg       0.57      0.66      0.59       375\n",
            "weighted avg       0.93      0.87      0.90       375\n",
            "\n",
            "--------------------------------------------------\n",
            "Cross val score :  0.9141702547625942\n",
            "--------------------------------------------------\n"
          ]
        }
      ]
    },
    {
      "cell_type": "markdown",
      "source": [
        "## Testing Prediction"
      ],
      "metadata": {
        "id": "WbV6Idb-dNim"
      }
    },
    {
      "cell_type": "code",
      "source": [
        "test_pred = lr.predict(X_test)\n",
        "print('* Confustion metric: \\n' , confusion_matrix(y_test_df ,test_pred))\n",
        "print(\"-\"*50)\n",
        "print(\"* Cls Report: \\n\" ,classification_report(y_test_df , test_pred))\n",
        "print(\"-\"*50)"
      ],
      "metadata": {
        "colab": {
          "base_uri": "https://localhost:8080/"
        },
        "id": "NJW5S2qUdTmO",
        "outputId": "ebe27779-d8b7-40f6-b9b6-4bf8b9f2c3d9"
      },
      "execution_count": 50,
      "outputs": [
        {
          "output_type": "stream",
          "name": "stdout",
          "text": [
            "* Confustion metric: \n",
            " [[819 184]\n",
            " [ 30  37]]\n",
            "--------------------------------------------------\n",
            "* Cls Report: \n",
            "               precision    recall  f1-score   support\n",
            "\n",
            "           0       0.96      0.82      0.88      1003\n",
            "           1       0.17      0.55      0.26        67\n",
            "\n",
            "    accuracy                           0.80      1070\n",
            "   macro avg       0.57      0.68      0.57      1070\n",
            "weighted avg       0.91      0.80      0.85      1070\n",
            "\n",
            "--------------------------------------------------\n"
          ]
        }
      ]
    },
    {
      "cell_type": "markdown",
      "source": [
        "**Saving the model**\n"
      ],
      "metadata": {
        "id": "jG1zlqMvdvpD"
      }
    },
    {
      "cell_type": "code",
      "source": [
        "import pickle\n",
        "\n",
        "MODEL_OPT_FILE = 'strokePredict.pkl'\n",
        "with open(MODEL_OPT_FILE, 'wb') as file:\n",
        "    pickle.dump(model, file)"
      ],
      "metadata": {
        "id": "LeWJxVg5dvE_"
      },
      "execution_count": 62,
      "outputs": []
    },
    {
      "cell_type": "code",
      "source": [
        "from google.colab import files\n",
        "\n",
        "files.download(MODEL_OPT_FILE)"
      ],
      "metadata": {
        "colab": {
          "base_uri": "https://localhost:8080/",
          "height": 17
        },
        "id": "XEQoT8YBg-gb",
        "outputId": "1bc2e150-ee90-4683-8675-94083a3ee121"
      },
      "execution_count": 63,
      "outputs": [
        {
          "output_type": "display_data",
          "data": {
            "text/plain": [
              "<IPython.core.display.Javascript object>"
            ],
            "application/javascript": [
              "\n",
              "    async function download(id, filename, size) {\n",
              "      if (!google.colab.kernel.accessAllowed) {\n",
              "        return;\n",
              "      }\n",
              "      const div = document.createElement('div');\n",
              "      const label = document.createElement('label');\n",
              "      label.textContent = `Downloading \"${filename}\": `;\n",
              "      div.appendChild(label);\n",
              "      const progress = document.createElement('progress');\n",
              "      progress.max = size;\n",
              "      div.appendChild(progress);\n",
              "      document.body.appendChild(div);\n",
              "\n",
              "      const buffers = [];\n",
              "      let downloaded = 0;\n",
              "\n",
              "      const channel = await google.colab.kernel.comms.open(id);\n",
              "      // Send a message to notify the kernel that we're ready.\n",
              "      channel.send({})\n",
              "\n",
              "      for await (const message of channel.messages) {\n",
              "        // Send a message to notify the kernel that we're ready.\n",
              "        channel.send({})\n",
              "        if (message.buffers) {\n",
              "          for (const buffer of message.buffers) {\n",
              "            buffers.push(buffer);\n",
              "            downloaded += buffer.byteLength;\n",
              "            progress.value = downloaded;\n",
              "          }\n",
              "        }\n",
              "      }\n",
              "      const blob = new Blob(buffers, {type: 'application/binary'});\n",
              "      const a = document.createElement('a');\n",
              "      a.href = window.URL.createObjectURL(blob);\n",
              "      a.download = filename;\n",
              "      div.appendChild(a);\n",
              "      a.click();\n",
              "      div.remove();\n",
              "    }\n",
              "  "
            ]
          },
          "metadata": {}
        },
        {
          "output_type": "display_data",
          "data": {
            "text/plain": [
              "<IPython.core.display.Javascript object>"
            ],
            "application/javascript": [
              "download(\"download_3eea48cb-6b8d-4e93-8fe9-242f1b02cd5d\", \"strokePredict.pkl\", 568613)"
            ]
          },
          "metadata": {}
        }
      ]
    }
  ]
}